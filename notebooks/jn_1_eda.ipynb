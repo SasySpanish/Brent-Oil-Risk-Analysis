{
  "metadata": {
    "kernelspec": {
      "name": "xpython",
      "display_name": "Python 3.13 (XPython)",
      "language": "python"
    },
    "language_info": {
      "file_extension": ".py",
      "mimetype": "text/x-python",
      "name": "python",
      "version": "3.13.1"
    }
  },
  "nbformat_minor": 5,
  "nbformat": 4,
  "cells": [
    {
      "id": "96c89dc3-77e2-46bd-ae59-465fd09a4530",
      "cell_type": "code",
      "source": "### 1. EDA\n# Libraries\nimport pandas as pd\nimport numpy as np\nimport seaborn as sns\nimport matplotlib.pyplot as plt\nimport statsmodels.api as sm\n\nfrom scipy import stats\nfrom scipy.stats import skew, kurtosis, jarque_bera, shapiro\nfrom statsmodels.stats.diagnostic import normal_ad\n\n\n# Import dataset\ndata = pd.read_csv(\"brent.csv\", parse_dates=[\"Date\"])\ndata.set_index(\"Date\", inplace=True)\ndata1=pd.read_csv('brentv.csv', parse_dates=[\"Date\"])\ndata1.set_index(\"Date\", inplace=True)\n\n# Log-returns\ndata[\"Log_Returns\"] = np.log(data[\"Close\"] / data[\"Close\"].shift(1))\ndata['Log_Returns'] = data['Log_Returns'].fillna(method='bfill')\nreturns=data['Log_Returns']\n\n# Descriptive statistics\nclosestat = data[\"Close\"].describe()\nprint(closestat)\nvolumestat = data[\"Volume\"].describe()\nprint(volumestat)\nlogstat = data[\"Log_Returns\"].describe()\nprint(logstat)\n\n# Price chart\nplt.figure(figsize=(12,6))\nplt.plot(data.index, data[\"Close\"], label=\"Brent Price\", color=\"blue\")\nplt.title(\"Historical Trend of Brent Price\")\nplt.xlabel(\"Date\")\nplt.ylabel(\"Price ($)\")\nplt.legend()\nplt.grid()\nplt.show()\n\n# Histogram of log-returns distribution\nplt.figure(figsize=(12,6))\nsns.histplot(data[\"Log_Returns\"], bins=50, kde=True, color=\"blue\")\nplt.title(\"Distribution of Log-Returns\")\nplt.xlabel(\"Log-Return\")\nplt.ylabel(\"Frequency\")\nplt.grid()\nplt.show()\n\n# Skewness\nskewness = skew(data[\"Log_Returns\"])\nprint('Skewness:', skewness)\n# Kurtosis\ncurtosi = kurtosis(data[\"Log_Returns\"])\nprint('Kurtosis:', curtosi)\n\n# Normality tests\njb_stat, jb_p = jarque_bera(data[\"Log_Returns\"])\nshapiro_stat, shapiro_p = shapiro(data[\"Log_Returns\"])\nprint(f\"Jarque-Bera Test: Stat={jb_stat:.4f}, p-value={jb_p:.4f}\")\nprint(f\"Shapiro-Wilk Test: Stat={shapiro_stat:.4f}, p-value={shapiro_p:.4f}\")\n\nalpha = 0.05\nif shapiro_p > alpha:\n    print('Data appears normally distributed (fail to reject H0)')\nelse:\n    print('Data does not appear normally distributed (reject H0)')\n\n# Kolmogorov-Smirnov Test\nks_test = stats.kstest(data[\"Log_Returns\"], 'norm')\nprint(f\"Kolmogorov-Smirnov Test: statistic={ks_test[0]}, p-value={ks_test[1]:.7f}\")\nanderson_test = normal_ad(data[\"Log_Returns\"])\nprint(f\"Anderson-Darling Test: statistic={anderson_test[0]}, p-value={anderson_test[1]}\")\n\n# QQ-Plot\nplt.figure(figsize=(12,6))\nsm.qqplot(data[\"Log_Returns\"], line='s')\nplt.title(\"Q-Q Plot\")\nplt.xlabel(\"Theoretical Quantiles\")\nplt.ylabel(\"Empirical Quantiles\")\nplt.show()\n\n# Boxplot of log-returns\nplt.figure(figsize=(12,6))\nsns.boxplot(x=data[\"Log_Returns\"])\nplt.title(\"Boxplot of Log-Returns\")\nplt.grid()\nplt.show()\n\n# Empirical quantiles for tail analysis\nprint(data[\"Log_Returns\"].quantile([0.01, 0.05, 0.95, 0.99]))\n\n# Correlation matrix\ncorrelation_matrix = data[[\"Close\", \"Volume\", \"Log_Returns\"]].corr()\n# Heatmap of correlations\nplt.figure(figsize=(12,6))\nsns.heatmap(correlation_matrix, annot=True, cmap=\"coolwarm\", fmt=\".2f\")\nplt.title(\"Correlation Matrix Between Variables\")\nplt.show()\n",
      "metadata": {
        "trusted": true
      },
      "outputs": [],
      "execution_count": null
    }
  ]
}